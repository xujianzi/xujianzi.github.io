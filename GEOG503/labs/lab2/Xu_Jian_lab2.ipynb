{
 "cells": [
  {
   "cell_type": "markdown",
   "metadata": {},
   "source": [
    "# GEOG-503 Lab 2\n",
    "\n",
    "## Due date: \n",
    "Sep 12 (Wednesday) 11:59 pm\n",
    "\n",
    "## What to submit:\n",
    "\n",
    "The Jupyter Notebook that contains solutions to the following questions. File name convention for submission: ** lastname_firstname_lab2.ipynb **\n",
    "\n",
    "It must be submitted to [myCourses](https://mycourses.binghamton.edu/)\n",
    "\n",
    "## Questions\n",
    "\n",
    "Answer the questions or complete the tasks outlined in bold below, use the specific method described if applicable."
   ]
  },
  {
   "cell_type": "markdown",
   "metadata": {},
   "source": [
    "## Q1:\n",
    "\n",
    "Write a program which prompts the user for hours and rate per hour to compute the gross pay. Your program must have error handling capabilites (*try ... except ...*) when a user enters invalid numbers/characters. \n",
    "\n",
    "gross-pay = rate-per-hour * hours"
   ]
  },
  {
   "cell_type": "code",
   "execution_count": 2,
   "metadata": {},
   "outputs": [
    {
     "name": "stdout",
     "output_type": "stream",
     "text": [
      "Please enter the rate:-2\n",
      "Please enter the hours:34\n",
      "An exception happened:The 'rate' must be postive numbers\n"
     ]
    }
   ],
   "source": [
    "#This function need improvement.\n",
    "#How to raise an exception that a string can't convert to number\n",
    "def grossPay(rate, hours):\n",
    "    try:\n",
    "        if float(rate) <= 0:\n",
    "            raise Exception('''The 'rate' must be postive numbers''')\n",
    "        if float(hours) <= 0:\n",
    "            raise Exception('''The 'hours' must be postive numbers''')\n",
    "        gross = float(rate)*float(hours)\n",
    "        return gross\n",
    "    except ValueError:\n",
    "        print('''The 'rate' and 'hours' must be numbers''')\n",
    "\n",
    "rate = input('Please enter the rate:')\n",
    "hours = input('Please enter the hours:')\n",
    "try:\n",
    "    print(\"The gross-pay is:\" + str(grossPay(rate, hours)))\n",
    "except Exception as err:\n",
    "    print('An exception happened:' + str(err))"
   ]
  },
  {
   "cell_type": "markdown",
   "metadata": {},
   "source": [
    "## Q2:\n",
    "\n",
    "Write a program which prompts the user for a Fahrenheit temperature, convert the temperature to Celsius, and print out the converted temperature. Your program must have error handling capabilites (*try ... except ...*) when a user enters invalid numbers/characters. "
   ]
  },
  {
   "cell_type": "code",
   "execution_count": null,
   "metadata": {},
   "outputs": [],
   "source": [
    "def fahToCel(fahren): # The parameter needs to be numbers\n",
    "    celsius = (fahren - 32)*5/9\n",
    "    return celsius\n",
    "\n",
    "\n",
    "intro = \"This is a Function to covert Fahrenheit temperature to Celsius temperature\"\n",
    "print(intro.center(len(intro) + 10, '*'))\n",
    "while True:\n",
    "    try:\n",
    "        fahrenheit = input('Please enter a Fahrenheit temperature:')\n",
    "        print('The Celsius temperature is:' + str(fahToCel(float(fahrenheit))) + '℃')\n",
    "        break\n",
    "    except ValueError:\n",
    "        print('The Fahrenheit temperature must be numbers, please enter again!')"
   ]
  },
  {
   "cell_type": "markdown",
   "metadata": {},
   "source": [
    "## Q3:\n",
    "\n",
    "Write a program that prompts a user for entering a grade (0 -100) and whether he/she has earned the extra credit (‘Yes’ or ‘No’). If ‘Yes’, add 3 extra credits to his/her grade, then print out the letter grade he/she should receive based on the grading scheme below. \n",
    "\n",
    "Letter Grade\t% of Points\n",
    "\n",
    "A\t93.00 – 100%\n",
    "\n",
    "A-\t90.00 – 92.99%\n",
    "\n",
    "B+\t87.00 – 89.99%\n",
    "\n",
    "B\t82.00 – 86.99%\n",
    "\n",
    "B-\t80.00 – 81.99%\n",
    "\n",
    "C+\t77.00 – 79.99%\n",
    "\n",
    "C\t72.00 – 76.99%\n",
    "\n",
    "C- \t70.00 – 71.99%\n",
    "\n",
    "D\t60.00 – 69.99%\n",
    "\n",
    "F\t0.00   – 59.99%\n"
   ]
  },
  {
   "cell_type": "code",
   "execution_count": null,
   "metadata": {},
   "outputs": [],
   "source": [
    "def gradeIndentify(grades, extra): # grades must be number, extra must be string\n",
    "    extraPoints = 3\n",
    "    if extra.lower() == \"yes\":\n",
    "        grades = extraPoints + grades\n",
    "    if grades >= 93:\n",
    "        return \"A\"\n",
    "    elif grades >= 90:\n",
    "        return \"A-\"\n",
    "    elif grades >= 87:\n",
    "        return \"B+\"\n",
    "    elif grades >= 82:\n",
    "        return \"B\"\n",
    "    elif grades >= 80:\n",
    "        return \"B-\"\n",
    "    elif grades >= 77:\n",
    "        return \"C+\"\n",
    "    elif grades >= 72:\n",
    "        return \"C\"\n",
    "    elif grades >= 70:\n",
    "        return \"C-\"\n",
    "    elif grades >= 60:\n",
    "        return \"D\"\n",
    "    else:\n",
    "        return \"F\"\n",
    "\n",
    "\n",
    "intro = \"This is a function to calculate your grades\"\n",
    "print(intro.center(len(intro) + 30, '*'))\n",
    "grades = input('''Please enter your grade(The grade must be numbers):''')\n",
    "extra = input('''Please choose whether you earn the extra credit(YES/NO):''')\n",
    "print('Your Letter grade is:' + gradeIndentify(float(grades), extra))"
   ]
  },
  {
   "cell_type": "markdown",
   "metadata": {},
   "source": [
    "## Q4:\n",
    "\n",
    "Write a program that repeatedly prompts a user for numbers until the user enters 'done'. Once 'done' is entered, print out the largest, smallest, sum, and average of the numbers. If the user enters anything other than a valid number put out an appropriate message and ignore the number.\n"
   ]
  },
  {
   "cell_type": "code",
   "execution_count": 3,
   "metadata": {},
   "outputs": [
    {
     "name": "stdout",
     "output_type": "stream",
     "text": [
      "***************This is a function to get the information of a series of numbers***************\n",
      "Please enter a number(enter the 'done' to stop):23\n",
      "Please enter a number(enter the 'done' to stop):34\n",
      "Please enter a number(enter the 'done' to stop):5\n",
      "Please enter a number(enter the 'done' to stop):4\n",
      "Please enter a number(enter the 'done' to stop):1\n",
      "Please enter a number(enter the 'done' to stop):23\n",
      "Please enter a number(enter the 'done' to stop):dsf\n",
      "You enter the wrong information, please enter a number again\n",
      "Please enter a number(enter the 'done' to stop):23\n",
      "Please enter a number(enter the 'done' to stop):done\n",
      "[23.0, 34.0, 5.0, 4.0, 1.0, 23.0, 23.0]\n",
      "The largest number of the numbers is:34.0\n",
      "The smallest number of the numbers is:1.0\n",
      "The sum of the numbers is:113.0\n",
      "The average of the numbers is:16.142857142857142\n"
     ]
    }
   ],
   "source": [
    "intro = \"This is a function to get the information of a series of numbers\"\n",
    "print(intro.center(len(intro) + 30, '*'))\n",
    "nums = []\n",
    "while True:\n",
    "    num = input('''Please enter a number(enter the 'done' to stop):''')\n",
    "    if num.lower() == 'done':\n",
    "        break\n",
    "    try:\n",
    "        num = float(num)\n",
    "    except ValueError:\n",
    "        print('You enter the wrong information, please enter a number again')\n",
    "        continue\n",
    "    nums.append(num)\n",
    "print(nums)\n",
    "info = {\"largest number\": max(nums), \"smallest number\": min(nums), \"sum\": sum(nums), \"average\": sum(nums)/len(nums)}\n",
    "for k, v in info.items():\n",
    "    print('The {} of the numbers is:{}'.format(k, v))"
   ]
  },
  {
   "cell_type": "markdown",
   "metadata": {},
   "source": [
    "## Q5:\n",
    "\n",
    "Write a program to find out the names listed in **names_1.csv** but not in **names_2.csv**. Save the results as a new csv named **name_not_found.csv**."
   ]
  },
  {
   "cell_type": "code",
   "execution_count": null,
   "metadata": {},
   "outputs": [],
   "source": []
  }
 ],
 "metadata": {
  "anaconda-cloud": {},
  "kernelspec": {
   "display_name": "Python 3",
   "language": "python",
   "name": "python3"
  },
  "language_info": {
   "codemirror_mode": {
    "name": "ipython",
    "version": 3
   },
   "file_extension": ".py",
   "mimetype": "text/x-python",
   "name": "python",
   "nbconvert_exporter": "python",
   "pygments_lexer": "ipython3",
   "version": "3.6.5"
  }
 },
 "nbformat": 4,
 "nbformat_minor": 1
}
